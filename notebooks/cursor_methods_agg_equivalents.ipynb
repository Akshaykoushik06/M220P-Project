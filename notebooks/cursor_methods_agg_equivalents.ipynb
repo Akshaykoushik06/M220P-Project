{
 "cells": [
  {
   "cell_type": "markdown",
   "source": [
    "<img src=\"https://s3.amazonaws.com/edu-static.mongodb.com/lessons/M220/notebook_assets/screen_align.png\" style=\"margin: 0 auto;\">\n"
   ],
   "metadata": {
    "slideshow": {
     "slide_type": "slide"
    }
   }
  },
  {
   "cell_type": "markdown",
   "source": [
    "<h1 style=\"text-align: center; font-size=58px;\">Cursor Methods and Aggregation Equivalents</h1>"
   ],
   "metadata": {
    "slideshow": {
     "slide_type": "slide"
    }
   }
  },
  {
   "cell_type": "markdown",
   "source": [
    "In this lesson we're going to discuss methods we can call against Pymongo cursors, and the aggregation stages that would perform the same tasks in a pipeline."
   ],
   "metadata": {
    "slideshow": {
     "slide_type": "notes"
    }
   }
  },
  {
   "cell_type": "markdown",
   "source": [
    "<h2 style=\"text-align: center; font-size=58px;\">Limiting</h2>"
   ],
   "metadata": {
    "slideshow": {
     "slide_type": "slide"
    }
   }
  },
  {
   "cell_type": "code",
   "execution_count": null,
   "source": [
    "import pymongo\r\n",
    "from bson.json_util import dumps\r\n",
    "uri = \"<your_atlas_uri>\"\r\n",
    "client = pymongo.MongoClient(uri)\r\n",
    "mflix = client.sample_mflix\r\n",
    "movies = mflix.movies"
   ],
   "outputs": [],
   "metadata": {
    "slideshow": {
     "slide_type": "subslide"
    }
   }
  },
  {
   "cell_type": "markdown",
   "source": [
    "Here's (point) a collection object for the `movies` collection."
   ],
   "metadata": {
    "slideshow": {
     "slide_type": "notes"
    }
   }
  },
  {
   "cell_type": "code",
   "execution_count": null,
   "source": [
    "limited_cursor = movies.find(\r\n",
    "    { \"directors\": \"Sam Raimi\" },\r\n",
    "    { \"_id\": 0, \"title\": 1, \"cast\": 1 } \r\n",
    ").limit(2)\r\n",
    "\r\n",
    "print(dumps(limited_cursor, indent=2))"
   ],
   "outputs": [],
   "metadata": {
    "slideshow": {
     "slide_type": "subslide"
    }
   }
  },
  {
   "cell_type": "markdown",
   "source": [
    "So this is a find query with a predicate (point) and a projection (point). And the find() method is always gonna return a cursor to us. But before assigning that cursor to a variable, we've transformed it with the limit() method, to make sure no more than 2 documents are returned by this cursor.\n",
    "\n",
    "(run command)\n",
    "\n",
    "And we can see we only got two (point) documents back."
   ],
   "metadata": {
    "slideshow": {
     "slide_type": "notes"
    }
   }
  },
  {
   "cell_type": "code",
   "execution_count": null,
   "source": [
    "pipeline = [\r\n",
    "    { \"$match\": { \"directors\": \"Sam Raimi\" } },\r\n",
    "    { \"$project\": { \"_id\": 0, \"title\": 1, \"cast\": 1 } },\r\n",
    "    { \"$limit\": 2 }\r\n",
    "]\r\n",
    "\r\n",
    "limited_aggregation = movies.aggregate( pipeline )\r\n",
    "\r\n",
    "print(dumps(limited_aggregation, indent=2))"
   ],
   "outputs": [],
   "metadata": {
    "slideshow": {
     "slide_type": "subslide"
    }
   }
  },
  {
   "cell_type": "markdown",
   "source": [
    "Now this is the equivalent operation with the aggregation framework. Instead of tacking a .limit() to the end of the cursor, we add $limit as a stage in our pipeline.\n",
    "\n",
    "(enter command)\n",
    "\n",
    "And it's the same output. And these (point to `$match` and `$project`) aggregation stages represent the query predicate and the projection from when we were using the query language."
   ],
   "metadata": {
    "slideshow": {
     "slide_type": "notes"
    }
   }
  },
  {
   "cell_type": "markdown",
   "source": [
    "<h2 style=\"text-align: center; font-size=58px;\">Sorting</h2>"
   ],
   "metadata": {
    "slideshow": {
     "slide_type": "slide"
    }
   }
  },
  {
   "cell_type": "code",
   "execution_count": null,
   "source": [
    "from pymongo import DESCENDING, ASCENDING\r\n",
    "\r\n",
    "sorted_cursor = movies.find(\r\n",
    "    { \"directors\": \"Sam Raimi\" },\r\n",
    "    { \"_id\": 0, \"year\": 1, \"title\": 1, \"cast\": 1 } \r\n",
    ").sort(\"year\", ASCENDING)\r\n",
    "\r\n",
    "print(dumps(sorted_cursor, indent=2))"
   ],
   "outputs": [],
   "metadata": {
    "slideshow": {
     "slide_type": "subslide"
    }
   }
  },
  {
   "cell_type": "markdown",
   "source": [
    "This is an example of the `sort()` (point) cursor method. `sort()` takes two parameters, the key we're sorting on and the sorting order. In this example we're sorting on year (point), in increasing (point) order.\n",
    "\n",
    "ASCENDING and DESCENDING are values from the pymongo library to specify sort direction, but they're really just the integers 1 and -1.\n",
    "\n",
    "(enter command)\n",
    "\n",
    "And we can see that the movies were returned to us in order of the year they were made."
   ],
   "metadata": {
    "slideshow": {
     "slide_type": "notes"
    }
   }
  },
  {
   "cell_type": "code",
   "execution_count": null,
   "source": [
    "pipeline = [\r\n",
    "    { \"$match\": { \"directors\": \"Sam Raimi\" } },\r\n",
    "    { \"$project\": { \"_id\": 0, \"year\": 1, \"title\": 1, \"cast\": 1 } },\r\n",
    "    { \"$sort\": { \"year\": ASCENDING } }\r\n",
    "]\r\n",
    "\r\n",
    "sorted_aggregation = movies.aggregate( pipeline )\r\n",
    "\r\n",
    "print(dumps(sorted_aggregation, indent=2))"
   ],
   "outputs": [],
   "metadata": {
    "slideshow": {
     "slide_type": "subslide"
    }
   }
  },
  {
   "cell_type": "markdown",
   "source": [
    "And this is the equivalent pipeline, with a sort (point) stage that corresponds to a dictionary, giving the sort (point) field, and the direction (point) of the sort.\n",
    "\n",
    "(enter command)\n",
    "\n",
    "And the agg framework was able to sort by year here."
   ],
   "metadata": {
    "slideshow": {
     "slide_type": "notes"
    }
   }
  },
  {
   "cell_type": "code",
   "execution_count": null,
   "source": [
    "sorted_cursor = movies.find(\r\n",
    "    { \"cast\": \"Tom Hanks\" },\r\n",
    "    { \"_id\": 0, \"year\": 1, \"title\": 1, \"cast\": 1 }\r\n",
    ").sort([(\"year\", ASCENDING), (\"title\", ASCENDING)])\r\n",
    "\r\n",
    "print(dumps(sorted_cursor, indent=2))"
   ],
   "outputs": [],
   "metadata": {
    "slideshow": {
     "slide_type": "subslide"
    }
   }
  },
  {
   "cell_type": "markdown",
   "source": [
    "So just a special case to note here, sorting on multiple keys in the cursor method is gonna look a little different.\n",
    "\n",
    "When sorting on one key, the `sort()` method takes two arguments, the key and the sort order.\n",
    "\n",
    "When sorting on two or more keys, the `sort()` method takes a single argument, an array of tuples. And each tuple has a key and a sort order.\n",
    "\n",
    "(enter command)\n",
    "\n",
    "And we can see that after sorting on year, the cursor sorted the movie titles alphabetically."
   ],
   "metadata": {
    "slideshow": {
     "slide_type": "notes"
    }
   }
  },
  {
   "cell_type": "code",
   "execution_count": null,
   "source": [
    "pipeline = [\r\n",
    "    { \"$match\": { \"cast\": \"Tom Hanks\" } },\r\n",
    "    { \"$project\": { \"_id\": 0, \"year\": 1, \"title\": 1, \"cast\": 1 } },\r\n",
    "    { \"$sort\": { \"year\": ASCENDING, \"title\": ASCENDING } }\r\n",
    "]\r\n",
    "\r\n",
    "sorted_aggregation = movies.aggregate( pipeline )\r\n",
    "\r\n",
    "print(dumps(sorted_aggregation, indent=2))"
   ],
   "outputs": [],
   "metadata": {
    "slideshow": {
     "slide_type": "subslide"
    }
   }
  },
  {
   "cell_type": "markdown",
   "source": [
    "<h2 style=\"text-align: center; font-size=58px;\">Skipping</h2>"
   ],
   "metadata": {
    "slideshow": {
     "slide_type": "slide"
    }
   }
  },
  {
   "cell_type": "code",
   "execution_count": null,
   "source": [
    "pipeline = [\r\n",
    "    { \"$match\": { \"directors\": \"Sam Raimi\" } },\r\n",
    "    { \"$project\": { \"_id\": 0, \"title\": 1, \"cast\": 1 } },\r\n",
    "    { \"$count\": \"num_movies\" }\r\n",
    "]\r\n",
    "\r\n",
    "sorted_aggregation = movies.aggregate( pipeline )\r\n",
    "\r\n",
    "print(dumps(sorted_aggregation, indent=2))"
   ],
   "outputs": [],
   "metadata": {
    "slideshow": {
     "slide_type": "subslide"
    }
   }
  },
  {
   "cell_type": "markdown",
   "source": [
    "(enter command)\n",
    "\n",
    "So we know from counting the documents in this aggregation, that if we don't specify anything else, we're getting 15 (point) documents returned to us.\n",
    "\n",
    "Note that the cursor method `count()` that counts documents in a cursor has been deprecated. So if you want to know how many documents are returned by a query, you should use the `$count` aggregation stage."
   ],
   "metadata": {
    "slideshow": {
     "slide_type": "notes"
    }
   }
  },
  {
   "cell_type": "code",
   "execution_count": null,
   "source": [
    "skipped_cursor = movies.find(\r\n",
    "    { \"directors\": \"Sam Raimi\" },\r\n",
    "    { \"_id\": 0, \"title\": 1, \"cast\": 1 } \r\n",
    ").skip(14)\r\n",
    "\r\n",
    "print(dumps(skipped_cursor, indent=2))"
   ],
   "outputs": [],
   "metadata": {
    "slideshow": {
     "slide_type": "subslide"
    }
   }
  },
  {
   "cell_type": "markdown",
   "source": [
    "The `skip()` method allows us to skip documents in a collection, so only documents we did not skip appear in the cursor. Because we only have 15 documents, skipping 14 of them should only leave us with 1.\n",
    "\n",
    "(enter command)\n",
    "\n",
    "And look at that, we've only got 1 document in our cursor. The issue is, we don't really know which documents we skipped over, because we haven't specified a sort key and really, we have no idea the order in which documents are stored in the cursor."
   ],
   "metadata": {
    "slideshow": {
     "slide_type": "notes"
    }
   }
  },
  {
   "cell_type": "code",
   "execution_count": null,
   "source": [
    "skipped_sorted_cursor = movies.find(\r\n",
    "    { \"directors\": \"Sam Raimi\" },\r\n",
    "    { \"_id\": 0, \"title\": 1, \"year\": 1, \"cast\": 1 } \r\n",
    ").sort(\"year\", ASCENDING).skip(10)\r\n",
    "\r\n",
    "print(dumps(skipped_sorted_cursor, indent=2))"
   ],
   "outputs": [],
   "metadata": {
    "slideshow": {
     "slide_type": "subslide"
    }
   }
  },
  {
   "cell_type": "markdown",
   "source": [
    "So here we've sorted on year (point) and then skipped the first 14. Now we know that when we're skipping 10 documents, we're skipping the 10 oldest Sam Raimi movies in this collection.\n",
    "\n",
    "(enter command)\n",
    "\n",
    "And we only got 5 of those 15 documents back, because we skipped 10 of them.\n",
    "\n",
    "These cursor methods are nice because we can tack them on a cursor in the order we want them applied. It even kinda makes our Python look like Javascript, with this `.sort()` and `.skip()`."
   ],
   "metadata": {
    "slideshow": {
     "slide_type": "notes"
    }
   }
  },
  {
   "cell_type": "code",
   "execution_count": null,
   "source": [
    "pipeline = [\r\n",
    "    { \"$match\": { \"directors\": \"Sam Raimi\" } },\r\n",
    "    { \"$project\": { \"_id\": 0, \"year\": 1, \"title\": 1, \"cast\": 1 } },\r\n",
    "    { \"$sort\": { \"year\": ASCENDING } },\r\n",
    "    { \"$skip\": 10 }\r\n",
    "]\r\n",
    "\r\n",
    "sorted_skipped_aggregation = movies.aggregate( pipeline )\r\n",
    "\r\n",
    "print(dumps(sorted_skipped_aggregation, indent=2))"
   ],
   "outputs": [],
   "metadata": {
    "slideshow": {
     "slide_type": "subslide"
    }
   }
  },
  {
   "cell_type": "markdown",
   "source": [
    "So here's an example of the same query in the aggregation framework. As you can see the `$skip` stage represents the `.skip()` from before.\n",
    "\n",
    "(run command)\n",
    "\n",
    "And it gives us the same output.\n",
    "\n",
    "The `skip()` method is useful for paging results on a website, because we can sort the results chronologically, and then if we have 10 movies displayed on each page, the first page would have a skip value of 0, but then the second page would skip the first 10 movies, the third page would skip the first 20 movies, etc."
   ],
   "metadata": {
    "slideshow": {
     "slide_type": "notes"
    }
   }
  },
  {
   "cell_type": "markdown",
   "source": [
    "## Summary\n",
    "\n",
    "* `.limit()` == `$limit`\n",
    "* `.sort()` == `$sort`\n",
    "* `.skip()` == `$skip`"
   ],
   "metadata": {
    "slideshow": {
     "slide_type": "slide"
    }
   }
  },
  {
   "cell_type": "markdown",
   "source": [
    "So just to recap, in this lesson we covered some cursor methods and their aggregation equivalents. Remember that there won't always be a 1 to 1 mapping, because the aggregation framework can do a lot more than cursors can.\n",
    "\n",
    "But these three methods exist as both aggregation stages and cursor methods."
   ],
   "metadata": {
    "slideshow": {
     "slide_type": "notes"
    }
   }
  },
  {
   "cell_type": "code",
   "execution_count": null,
   "source": [
    "print('asdasd')"
   ],
   "outputs": [],
   "metadata": {}
  }
 ],
 "metadata": {
  "celltoolbar": "Slideshow",
  "kernelspec": {
   "display_name": "Python 3",
   "language": "python",
   "name": "python3"
  },
  "language_info": {
   "codemirror_mode": {
    "name": "ipython",
    "version": 3
   },
   "file_extension": ".py",
   "mimetype": "text/x-python",
   "name": "python",
   "nbconvert_exporter": "python",
   "pygments_lexer": "ipython3",
   "version": "3.7.2"
  }
 },
 "nbformat": 4,
 "nbformat_minor": 2
}