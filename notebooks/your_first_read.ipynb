{
 "cells": [
  {
   "cell_type": "code",
   "execution_count": null,
   "source": [
    "# # import the pymongo library - this is the Python driver!\r\n",
    "# import pymongo\r\n",
    "\r\n",
    "# # replace \"uri\" with your Atlas URI string - should look like mongodb+srv://...\r\n",
    "# uri = \"<your-atlas-uri>\"\r\n",
    "# client = pymongo.MongoClient(uri)\r\n",
    "# mflix = client.sample_mflix\r\n",
    "\r\n",
    "# # movies is our collection handle - it refers to the sample_mflix.movies collection\r\n",
    "# movies = mflix.movies\r\n",
    "print('hello world')"
   ],
   "outputs": [],
   "metadata": {}
  },
  {
   "cell_type": "code",
   "execution_count": null,
   "source": [
    "# find one document in the \"movies\" collection - does not matter which one\r\n",
    "movies.find_one()"
   ],
   "outputs": [],
   "metadata": {}
  },
  {
   "cell_type": "code",
   "execution_count": null,
   "source": [
    "# find one document in the \"movies\" collection - must have \"Salma Hayek\" in the \"cast\"\r\n",
    "movies.find_one( { \"cast\": \"Salma Hayek\" } )"
   ],
   "outputs": [],
   "metadata": {}
  },
  {
   "cell_type": "code",
   "execution_count": null,
   "source": [
    "# find all the documents in the \"movies\" collection with \"Salma Hayek\" in the \"cast\"\r\n",
    "# this returns a cursor, which IS a Python iterable, but is NOT a document!\r\n",
    "movies.find( { \"cast\": \"Salma Hayek\" } )"
   ],
   "outputs": [],
   "metadata": {}
  },
  {
   "cell_type": "code",
   "execution_count": null,
   "source": [
    "# return the count of movies with \"Salma Hayek\" in the \"cast\"\r\n",
    "movies.find( { \"cast\": \"Salma Hayek\" } ).count()"
   ],
   "outputs": [],
   "metadata": {}
  },
  {
   "cell_type": "code",
   "execution_count": null,
   "source": [
    "# find all movies with Salma Hayek\r\n",
    "# then pretty print\r\n",
    "cursor = movies.find( { \"cast\": \"Salma Hayek\" } )\r\n",
    "from bson.json_util import dumps\r\n",
    "print(dumps(cursor, indent=2))"
   ],
   "outputs": [],
   "metadata": {}
  },
  {
   "cell_type": "code",
   "execution_count": null,
   "source": [
    "# find all movies with Salma Hayek, but only project the \"_id\" and \"title\" fields\n",
    "cursor = movies.find( { \"cast\": \"Salma Hayek\" }, { \"title\": 1 } )\n",
    "print(dumps(cursor, indent=2))"
   ],
   "outputs": [],
   "metadata": {}
  },
  {
   "cell_type": "code",
   "execution_count": null,
   "source": [
    "# find all movies with Salma Hayek, but only project the \"title\" field\n",
    "cursor = movies.find( { \"cast\": \"Salma Hayek\" }, { \"title\": 1, \"_id\": 0 } )\n",
    "print(dumps(cursor, indent=2))"
   ],
   "outputs": [],
   "metadata": {}
  },
  {
   "cell_type": "code",
   "execution_count": null,
   "source": [],
   "outputs": [],
   "metadata": {}
  }
 ],
 "metadata": {
  "kernelspec": {
   "display_name": "Python 3",
   "language": "python",
   "name": "python3"
  },
  "language_info": {
   "codemirror_mode": {
    "name": "ipython",
    "version": 3
   },
   "file_extension": ".py",
   "mimetype": "text/x-python",
   "name": "python",
   "nbconvert_exporter": "python",
   "pygments_lexer": "ipython3",
   "version": "3.7.2"
  }
 },
 "nbformat": 4,
 "nbformat_minor": 2
}