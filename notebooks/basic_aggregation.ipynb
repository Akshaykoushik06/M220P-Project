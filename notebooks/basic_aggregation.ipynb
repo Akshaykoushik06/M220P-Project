{
 "cells": [
  {
   "cell_type": "code",
   "execution_count": null,
   "source": [
    "import pymongo\r\n",
    "from bson.json_util import dumps\r\n",
    "uri = \"<your_atlas_uri>\"\r\n",
    "client = pymongo.MongoClient(uri)\r\n",
    "mflix = client.sample_mflix\r\n",
    "movies = mflix.movies"
   ],
   "outputs": [],
   "metadata": {}
  },
  {
   "cell_type": "code",
   "execution_count": null,
   "source": [
    "sam_raimi_cursor = movies.find( { \"directors\": \"Sam Raimi\" } )"
   ],
   "outputs": [],
   "metadata": {}
  },
  {
   "cell_type": "code",
   "execution_count": null,
   "source": [
    "sam_raimi_cursor"
   ],
   "outputs": [],
   "metadata": {}
  },
  {
   "cell_type": "code",
   "execution_count": null,
   "source": [
    "list(sam_raimi_cursor)"
   ],
   "outputs": [],
   "metadata": {}
  },
  {
   "cell_type": "code",
   "execution_count": null,
   "source": [
    "match_stage = {\"$match\": { \"directors\": \"Sam Raimi\" } }\r\n",
    "pipeline = [\r\n",
    "    match_stage\r\n",
    "]\r\n",
    "sam_raimi_aggregation = movies.aggregate( pipeline )"
   ],
   "outputs": [],
   "metadata": {}
  },
  {
   "cell_type": "code",
   "execution_count": null,
   "source": [
    "sam_raimi_aggregation"
   ],
   "outputs": [],
   "metadata": {}
  },
  {
   "cell_type": "code",
   "execution_count": null,
   "source": [
    "list(sam_raimi_aggregation)"
   ],
   "outputs": [],
   "metadata": {}
  },
  {
   "cell_type": "code",
   "execution_count": null,
   "source": [
    "sam_raimi_cursor = movies.find(\r\n",
    "    { \"directors\": \"Sam Raimi\" },\r\n",
    "    { \"_id\": 0, \"title\": 1, \"cast\": 1 }\r\n",
    ")\r\n",
    "\r\n",
    "print(dumps(sam_raimi_cursor, indent=2))"
   ],
   "outputs": [],
   "metadata": {}
  },
  {
   "cell_type": "code",
   "execution_count": null,
   "source": [
    "match_stage = { \"$match\": { \"directors\": \"Sam Raimi\" } }\r\n",
    "project_stage = { \"$project\": { \"_id\": 0, \"title\": 1, \"cast\": 1 } }\r\n",
    "\r\n",
    "pipeline = [\r\n",
    "    match_stage,\r\n",
    "    project_stage\r\n",
    "]\r\n",
    "\r\n",
    "sam_raimi_aggregation = movies.aggregate( pipeline )\r\n",
    "\r\n",
    "print(dumps(sam_raimi_aggregation, indent=2))"
   ],
   "outputs": [],
   "metadata": {}
  },
  {
   "cell_type": "code",
   "execution_count": null,
   "source": [
    "unwind_stage = { \"$unwind\": \"$directors\" }\r\n",
    "\r\n",
    "group_stage = {\r\n",
    "    \"$group\": {\r\n",
    "        \"_id\": {\r\n",
    "            \"director\": \"$directors\"\r\n",
    "        },\r\n",
    "        \"average_rating\": { \"$avg\": \"$imdb.rating\" }\r\n",
    "    }\r\n",
    "}\r\n",
    "\r\n",
    "sort_stage = {\r\n",
    "    \"$sort\": { \"average_rating\": -1 }\r\n",
    "}\r\n",
    "\r\n",
    "# create pipeline from four different stages\r\n",
    "pipeline = [\r\n",
    "    unwind_stage,\r\n",
    "    group_stage,\r\n",
    "    sort_stage\r\n",
    "]\r\n",
    "\r\n",
    "# aggregate using pipeline\r\n",
    "director_ratings = movies.aggregate(pipeline)\r\n",
    "\r\n",
    "# iterate through the resulting cursor\r\n",
    "list(director_ratings)"
   ],
   "outputs": [],
   "metadata": {}
  }
 ],
 "metadata": {
  "kernelspec": {
   "name": "python3",
   "display_name": "Python 3.9.6 64-bit"
  },
  "language_info": {
   "codemirror_mode": {
    "name": "ipython",
    "version": 3
   },
   "file_extension": ".py",
   "mimetype": "text/x-python",
   "name": "python",
   "nbconvert_exporter": "python",
   "pygments_lexer": "ipython3",
   "version": "3.9.6"
  },
  "interpreter": {
   "hash": "7dad16c0350942c127a76d5ce4132609c1b06042d0c22793879e092f99476e8b"
  }
 },
 "nbformat": 4,
 "nbformat_minor": 2
}